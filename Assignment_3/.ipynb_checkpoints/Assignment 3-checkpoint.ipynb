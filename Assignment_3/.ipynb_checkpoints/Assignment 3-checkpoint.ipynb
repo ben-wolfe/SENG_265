{
 "cells": [
  {
   "cell_type": "code",
   "execution_count": 2,
   "metadata": {
    "collapsed": true
   },
   "outputs": [],
   "source": [
    "from itertools import groupby"
   ]
  },
  {
   "cell_type": "code",
   "execution_count": 3,
   "metadata": {
    "collapsed": true
   },
   "outputs": [],
   "source": [
    "def mtf_encode(buf):\n",
    "    \n",
    "    lookup_list = []\n",
    "    encoding = [] \n",
    "    \n",
    "    for char in buf:\n",
    "        \n",
    "        if char not in lookup_list:\n",
    "            lookup_list.append(char)\n",
    "            encoding.extend((len(lookup_list), char))\n",
    "            \n",
    "        elif char in lookup_list:\n",
    "            index = lookup_list.index(char)\n",
    "            encoding.append(index+1)\n",
    "            lookup_list.pop(index)\n",
    "            lookup_list.insert(0,char)\n",
    "\n",
    "    return encoding"
   ]
  },
  {
   "cell_type": "code",
   "execution_count": 4,
   "metadata": {
    "collapsed": true
   },
   "outputs": [],
   "source": [
    "def rl_encode(buf):\n",
    "    \n",
    "    encoding = []\n",
    "    num_grouping = [list(group) for (_,group) in groupby(buf)]    \n",
    "    for group in num_grouping:\n",
    "        if len(group) >= 3:\n",
    "            encoding.extend((0, len(group)))\n",
    "        else:\n",
    "            encoding.extend(group)\n",
    "            \n",
    "    return encoding"
   ]
  },
  {
   "cell_type": "code",
   "execution_count": 5,
   "metadata": {
    "collapsed": true
   },
   "outputs": [],
   "source": [
    "def rl_decode(buf):\n",
    "    \n",
    "    decoding = []\n",
    "    \n",
    "    for index, char in enumerate(buf):\n",
    "        if char == 0:\n",
    "            for repeats in range(buf[index+1]):\n",
    "                decoding.append(1)\n",
    "        else:\n",
    "            if buf[index-1] != 0:\n",
    "                decoding.append(char)\n",
    "    \n",
    "    return decoding"
   ]
  },
  {
   "cell_type": "code",
   "execution_count": 6,
   "metadata": {
    "collapsed": true
   },
   "outputs": [],
   "source": [
    "def mtf_decode(buf):\n",
    "    \n",
    "    lookup_list = []\n",
    "    decoding = []\n",
    "    decoded_str = \"\"\n",
    "    \n",
    "    for char in buf:\n",
    "        \n",
    "        if isinstance(char,int):\n",
    "            if char > len(lookup_list):\n",
    "                continue\n",
    "            else:\n",
    "                decoded_char = lookup_list.pop(char-1)\n",
    "                decoding.append(decoded_char)\n",
    "                lookup_list.insert(0, decoded_char)\n",
    "        elif isinstance(char,str):\n",
    "            lookup_list.append(char)\n",
    "            decoding.append(char)\n",
    "    \n",
    "    decoded_str = \"\".join(decoding)\n",
    "    return decoded_str"
   ]
  },
  {
   "cell_type": "code",
   "execution_count": 7,
   "metadata": {
    "collapsed": true
   },
   "outputs": [],
   "source": [
    "def to_anscii(buf):\n",
    "    \n",
    "    anscii_list = []\n",
    "    anscii_string = \"\"\n",
    "    \n",
    "    for char in buf:\n",
    "        if isinstance(char, int):\n",
    "            anscii_char = chr(char+128)\n",
    "            anscii_list.append(anscii_char)\n",
    "        else:\n",
    "            anscii_list.append(char)\n",
    "    \n",
    "    anscii_string = \"\".join(anscii_list)\n",
    "    return anscii_string"
   ]
  },
  {
   "cell_type": "code",
   "execution_count": 8,
   "metadata": {
    "collapsed": true
   },
   "outputs": [],
   "source": [
    "def from_anscii(buf):\n",
    "    \n",
    "    alpha_num_list = []\n",
    "    \n",
    "    for char in buf:\n",
    "        if ord(char) >= 128:\n",
    "            num = ord(char)-128\n",
    "            alpha_num_list.append(num)\n",
    "        else:\n",
    "            alpha_num_list.append(char)\n",
    "    \n",
    "    return alpha_num_list"
   ]
  },
  {
   "cell_type": "code",
   "execution_count": 16,
   "metadata": {},
   "outputs": [
    {
     "name": "stdout",
     "output_type": "stream",
     "text": [
      "abcabcaaaaaaaabdddddbbbb\n",
      "[1, 'a', 2, 'b', 3, 'c', 1, 2, 3, 3, 1, 1, 1, 1, 1, 1, 1, 3, 4, 'd', 4, 1, 1, 1, 2, 1, 1, 1]\n",
      "[1, 'a', 2, 'b', 3, 'c', 1, 2, 3, 3, 0, 7, 3, 4, 'd', 4, 0, 3, 2, 0, 3]\n",
      "abcd\n",
      "[1, 'a', 2, 'b', 3, 'c', 1, 2, 3, 3, 0, 7, 3, 4, 'd', 4, 0, 3, 2, 0, 3]\n",
      "[1, 'a', 2, 'b', 3, 'c', 1, 2, 3, 3, 1, 1, 1, 1, 1, 1, 1, 3, 4, 'd', 4, 1, 1, 1, 2, 1, 1, 1]\n",
      "abcabcaaaaaaaabdddddbbbb\n"
     ]
    }
   ],
   "source": [
    "s = 'abcabcaaaaaaaabdddddbbbb'\n",
    "print(s)\n",
    "\n",
    "s = mtf_encode(s)\n",
    "print(s)\n",
    "\n",
    "s = rl_encode(s)\n",
    "print(s)\n",
    "\n",
    "s = to_anscii(s)\n",
    "print(s)\n",
    "\n",
    "s = from_anscii(s)\n",
    "print(s)\n",
    "\n",
    "s = rl_decode(s)\n",
    "print(s)\n",
    "\n",
    "s = mtf_decode(s)\n",
    "print(s)"
   ]
  },
  {
   "cell_type": "code",
   "execution_count": null,
   "metadata": {
    "collapsed": true
   },
   "outputs": [],
   "source": []
  },
  {
   "cell_type": "code",
   "execution_count": 10,
   "metadata": {},
   "outputs": [
    {
     "data": {
      "text/plain": [
       "'0x80'"
      ]
     },
     "execution_count": 10,
     "metadata": {},
     "output_type": "execute_result"
    }
   ],
   "source": [
    "hex(128)"
   ]
  },
  {
   "cell_type": "code",
   "execution_count": 11,
   "metadata": {},
   "outputs": [
    {
     "data": {
      "text/plain": [
       "str"
      ]
     },
     "execution_count": 11,
     "metadata": {},
     "output_type": "execute_result"
    }
   ],
   "source": [
    "type(hex(129))"
   ]
  },
  {
   "cell_type": "code",
   "execution_count": 12,
   "metadata": {},
   "outputs": [
    {
     "data": {
      "text/plain": [
       "'\\x81'"
      ]
     },
     "execution_count": 12,
     "metadata": {},
     "output_type": "execute_result"
    }
   ],
   "source": [
    "new_1 = 1+128\n",
    "chr(new_1)"
   ]
  },
  {
   "cell_type": "code",
   "execution_count": null,
   "metadata": {
    "collapsed": true
   },
   "outputs": [],
   "source": []
  }
 ],
 "metadata": {
  "kernelspec": {
   "display_name": "Python 3",
   "language": "python",
   "name": "python3"
  },
  "language_info": {
   "codemirror_mode": {
    "name": "ipython",
    "version": 3
   },
   "file_extension": ".py",
   "mimetype": "text/x-python",
   "name": "python",
   "nbconvert_exporter": "python",
   "pygments_lexer": "ipython3",
   "version": "3.6.1"
  }
 },
 "nbformat": 4,
 "nbformat_minor": 2
}
